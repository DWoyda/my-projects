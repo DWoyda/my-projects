{
 "cells": [
  {
   "cell_type": "code",
   "execution_count": 62,
   "id": "6e5c4309",
   "metadata": {},
   "outputs": [],
   "source": [
    "import pandas as pd\n",
    "import matplotlib.pyplot as plt\n",
    "import matplotlib.ticker as mticker"
   ]
  },
  {
   "cell_type": "markdown",
   "id": "9c110aac",
   "metadata": {},
   "source": [
    "# Data preparation"
   ]
  },
  {
   "cell_type": "code",
   "execution_count": 63,
   "id": "d77c034b",
   "metadata": {},
   "outputs": [],
   "source": [
    "df = pd.read_csv(\"transfers.csv\")\n"
   ]
  },
  {
   "cell_type": "code",
   "execution_count": 64,
   "id": "069a2c68",
   "metadata": {},
   "outputs": [
    {
     "data": {
      "text/html": [
       "<div>\n",
       "<style scoped>\n",
       "    .dataframe tbody tr th:only-of-type {\n",
       "        vertical-align: middle;\n",
       "    }\n",
       "\n",
       "    .dataframe tbody tr th {\n",
       "        vertical-align: top;\n",
       "    }\n",
       "\n",
       "    .dataframe thead th {\n",
       "        text-align: right;\n",
       "    }\n",
       "</style>\n",
       "<table border=\"1\" class=\"dataframe\">\n",
       "  <thead>\n",
       "    <tr style=\"text-align: right;\">\n",
       "      <th></th>\n",
       "      <th>player_id</th>\n",
       "      <th>transfer_date</th>\n",
       "      <th>transfer_season</th>\n",
       "      <th>from_club_id</th>\n",
       "      <th>to_club_id</th>\n",
       "      <th>from_club_name</th>\n",
       "      <th>to_club_name</th>\n",
       "      <th>transfer_fee</th>\n",
       "      <th>market_value_in_eur</th>\n",
       "      <th>player_name</th>\n",
       "    </tr>\n",
       "  </thead>\n",
       "  <tbody>\n",
       "    <tr>\n",
       "      <th>0</th>\n",
       "      <td>16136</td>\n",
       "      <td>2026-07-01</td>\n",
       "      <td>26/27</td>\n",
       "      <td>417</td>\n",
       "      <td>123</td>\n",
       "      <td>OGC Nice</td>\n",
       "      <td>Retired</td>\n",
       "      <td>NaN</td>\n",
       "      <td>500000.0</td>\n",
       "      <td>Dante</td>\n",
       "    </tr>\n",
       "    <tr>\n",
       "      <th>1</th>\n",
       "      <td>1138758</td>\n",
       "      <td>2026-07-01</td>\n",
       "      <td>26/27</td>\n",
       "      <td>336</td>\n",
       "      <td>631</td>\n",
       "      <td>Sporting CP</td>\n",
       "      <td>Chelsea</td>\n",
       "      <td>52140000.0</td>\n",
       "      <td>45000000.0</td>\n",
       "      <td>Geovany Quenda</td>\n",
       "    </tr>\n",
       "    <tr>\n",
       "      <th>2</th>\n",
       "      <td>195778</td>\n",
       "      <td>2026-06-30</td>\n",
       "      <td>25/26</td>\n",
       "      <td>79</td>\n",
       "      <td>27</td>\n",
       "      <td>VfB Stuttgart</td>\n",
       "      <td>Bayern Munich</td>\n",
       "      <td>0.0</td>\n",
       "      <td>12000000.0</td>\n",
       "      <td>Alexander Nübel</td>\n",
       "    </tr>\n",
       "    <tr>\n",
       "      <th>3</th>\n",
       "      <td>569033</td>\n",
       "      <td>2026-06-30</td>\n",
       "      <td>25/26</td>\n",
       "      <td>39</td>\n",
       "      <td>27</td>\n",
       "      <td>1.FSV Mainz 05</td>\n",
       "      <td>Bayern Munich</td>\n",
       "      <td>0.0</td>\n",
       "      <td>4000000.0</td>\n",
       "      <td>Armindo Sieb</td>\n",
       "    </tr>\n",
       "    <tr>\n",
       "      <th>4</th>\n",
       "      <td>626913</td>\n",
       "      <td>2026-06-30</td>\n",
       "      <td>25/26</td>\n",
       "      <td>398</td>\n",
       "      <td>380</td>\n",
       "      <td>Lazio</td>\n",
       "      <td>Salernitana</td>\n",
       "      <td>0.0</td>\n",
       "      <td>15000000.0</td>\n",
       "      <td>Boulaye Dia</td>\n",
       "    </tr>\n",
       "  </tbody>\n",
       "</table>\n",
       "</div>"
      ],
      "text/plain": [
       "   player_id transfer_date transfer_season  from_club_id  to_club_id  \\\n",
       "0      16136    2026-07-01           26/27           417         123   \n",
       "1    1138758    2026-07-01           26/27           336         631   \n",
       "2     195778    2026-06-30           25/26            79          27   \n",
       "3     569033    2026-06-30           25/26            39          27   \n",
       "4     626913    2026-06-30           25/26           398         380   \n",
       "\n",
       "   from_club_name   to_club_name  transfer_fee  market_value_in_eur  \\\n",
       "0        OGC Nice        Retired           NaN             500000.0   \n",
       "1     Sporting CP        Chelsea    52140000.0           45000000.0   \n",
       "2   VfB Stuttgart  Bayern Munich           0.0           12000000.0   \n",
       "3  1.FSV Mainz 05  Bayern Munich           0.0            4000000.0   \n",
       "4           Lazio    Salernitana           0.0           15000000.0   \n",
       "\n",
       "       player_name  \n",
       "0            Dante  \n",
       "1   Geovany Quenda  \n",
       "2  Alexander Nübel  \n",
       "3     Armindo Sieb  \n",
       "4      Boulaye Dia  "
      ]
     },
     "execution_count": 64,
     "metadata": {},
     "output_type": "execute_result"
    }
   ],
   "source": [
    "df.head()"
   ]
  },
  {
   "cell_type": "markdown",
   "id": "4ff0d94a",
   "metadata": {},
   "source": [
    "## Basic information about dataset"
   ]
  },
  {
   "cell_type": "code",
   "execution_count": 65,
   "id": "9a9c413b",
   "metadata": {},
   "outputs": [
    {
     "name": "stdout",
     "output_type": "stream",
     "text": [
      "<class 'pandas.core.frame.DataFrame'>\n",
      "RangeIndex: 79646 entries, 0 to 79645\n",
      "Data columns (total 10 columns):\n",
      " #   Column               Non-Null Count  Dtype  \n",
      "---  ------               --------------  -----  \n",
      " 0   player_id            79646 non-null  int64  \n",
      " 1   transfer_date        79646 non-null  object \n",
      " 2   transfer_season      79646 non-null  object \n",
      " 3   from_club_id         79646 non-null  int64  \n",
      " 4   to_club_id           79646 non-null  int64  \n",
      " 5   from_club_name       79646 non-null  object \n",
      " 6   to_club_name         79646 non-null  object \n",
      " 7   transfer_fee         51931 non-null  float64\n",
      " 8   market_value_in_eur  49330 non-null  float64\n",
      " 9   player_name          79646 non-null  object \n",
      "dtypes: float64(2), int64(3), object(5)\n",
      "memory usage: 6.1+ MB\n"
     ]
    }
   ],
   "source": [
    "df.info()"
   ]
  },
  {
   "cell_type": "code",
   "execution_count": 66,
   "id": "ed1229bb",
   "metadata": {},
   "outputs": [
    {
     "data": {
      "text/plain": [
       "player_id                int64\n",
       "transfer_date           object\n",
       "transfer_season         object\n",
       "from_club_id             int64\n",
       "to_club_id               int64\n",
       "from_club_name          object\n",
       "to_club_name            object\n",
       "transfer_fee           float64\n",
       "market_value_in_eur    float64\n",
       "player_name             object\n",
       "dtype: object"
      ]
     },
     "execution_count": 66,
     "metadata": {},
     "output_type": "execute_result"
    }
   ],
   "source": [
    "df.dtypes"
   ]
  },
  {
   "cell_type": "code",
   "execution_count": 67,
   "id": "a817a5bb",
   "metadata": {},
   "outputs": [],
   "source": [
    "df['transfer_date'] = pd.to_datetime(df['transfer_date'], errors='coerce')\n",
    "df['transfer_season'] = df['transfer_season'].astype('category')"
   ]
  },
  {
   "cell_type": "code",
   "execution_count": 68,
   "id": "bcd67800",
   "metadata": {},
   "outputs": [
    {
     "data": {
      "text/plain": [
       "player_id                       int64\n",
       "transfer_date          datetime64[ns]\n",
       "transfer_season              category\n",
       "from_club_id                    int64\n",
       "to_club_id                      int64\n",
       "from_club_name                 object\n",
       "to_club_name                   object\n",
       "transfer_fee                  float64\n",
       "market_value_in_eur           float64\n",
       "player_name                    object\n",
       "dtype: object"
      ]
     },
     "execution_count": 68,
     "metadata": {},
     "output_type": "execute_result"
    }
   ],
   "source": [
    "df.dtypes"
   ]
  },
  {
   "cell_type": "code",
   "execution_count": 69,
   "id": "52c5a2f9",
   "metadata": {},
   "outputs": [
    {
     "data": {
      "text/plain": [
       "(79646, 10)"
      ]
     },
     "execution_count": 69,
     "metadata": {},
     "output_type": "execute_result"
    }
   ],
   "source": [
    "df.shape"
   ]
  },
  {
   "cell_type": "code",
   "execution_count": 70,
   "id": "bc62b46a",
   "metadata": {},
   "outputs": [
    {
     "data": {
      "text/plain": [
       "Index(['player_id', 'transfer_date', 'transfer_season', 'from_club_id',\n",
       "       'to_club_id', 'from_club_name', 'to_club_name', 'transfer_fee',\n",
       "       'market_value_in_eur', 'player_name'],\n",
       "      dtype='object')"
      ]
     },
     "execution_count": 70,
     "metadata": {},
     "output_type": "execute_result"
    }
   ],
   "source": [
    "df.columns"
   ]
  },
  {
   "cell_type": "code",
   "execution_count": 71,
   "id": "7a81a7ed",
   "metadata": {},
   "outputs": [
    {
     "data": {
      "text/plain": [
       "player_id                  0\n",
       "transfer_date              0\n",
       "transfer_season            0\n",
       "from_club_id               0\n",
       "to_club_id                 0\n",
       "from_club_name             0\n",
       "to_club_name               0\n",
       "transfer_fee           27715\n",
       "market_value_in_eur    30316\n",
       "player_name                0\n",
       "dtype: int64"
      ]
     },
     "execution_count": 71,
     "metadata": {},
     "output_type": "execute_result"
    }
   ],
   "source": [
    "df.isnull().sum()"
   ]
  },
  {
   "cell_type": "markdown",
   "id": "a73afc31",
   "metadata": {},
   "source": [
    "### We analysis only cash-transfers"
   ]
  },
  {
   "cell_type": "code",
   "execution_count": 72,
   "id": "8102a95d",
   "metadata": {},
   "outputs": [],
   "source": [
    "df['transfer_fee'] = df['transfer_fee'].fillna(0)\n",
    "df['market_value_in_eur'] = df['market_value_in_eur'].fillna(0)"
   ]
  },
  {
   "cell_type": "code",
   "execution_count": 73,
   "id": "9761b27b",
   "metadata": {},
   "outputs": [
    {
     "data": {
      "text/plain": [
       "player_id              0\n",
       "transfer_date          0\n",
       "transfer_season        0\n",
       "from_club_id           0\n",
       "to_club_id             0\n",
       "from_club_name         0\n",
       "to_club_name           0\n",
       "transfer_fee           0\n",
       "market_value_in_eur    0\n",
       "player_name            0\n",
       "dtype: int64"
      ]
     },
     "execution_count": 73,
     "metadata": {},
     "output_type": "execute_result"
    }
   ],
   "source": [
    "df.isnull().sum()"
   ]
  },
  {
   "cell_type": "code",
   "execution_count": 74,
   "id": "cf252215",
   "metadata": {},
   "outputs": [
    {
     "data": {
      "text/plain": [
       "np.int64(0)"
      ]
     },
     "execution_count": 74,
     "metadata": {},
     "output_type": "execute_result"
    }
   ],
   "source": [
    "df.duplicated().sum()"
   ]
  },
  {
   "cell_type": "code",
   "execution_count": 75,
   "id": "0ebd3bf2",
   "metadata": {},
   "outputs": [
    {
     "name": "stdout",
     "output_type": "stream",
     "text": [
      "<class 'pandas.core.frame.DataFrame'>\n",
      "RangeIndex: 79646 entries, 0 to 79645\n",
      "Data columns (total 10 columns):\n",
      " #   Column               Non-Null Count  Dtype         \n",
      "---  ------               --------------  -----         \n",
      " 0   player_id            79646 non-null  int64         \n",
      " 1   transfer_date        79646 non-null  datetime64[ns]\n",
      " 2   transfer_season      79646 non-null  category      \n",
      " 3   from_club_id         79646 non-null  int64         \n",
      " 4   to_club_id           79646 non-null  int64         \n",
      " 5   from_club_name       79646 non-null  object        \n",
      " 6   to_club_name         79646 non-null  object        \n",
      " 7   transfer_fee         79646 non-null  float64       \n",
      " 8   market_value_in_eur  79646 non-null  float64       \n",
      " 9   player_name          79646 non-null  object        \n",
      "dtypes: category(1), datetime64[ns](1), float64(2), int64(3), object(3)\n",
      "memory usage: 5.5+ MB\n"
     ]
    }
   ],
   "source": [
    "df.info()"
   ]
  },
  {
   "cell_type": "code",
   "execution_count": 76,
   "id": "56ff187e",
   "metadata": {},
   "outputs": [],
   "source": [
    "df = df.copy()"
   ]
  },
  {
   "cell_type": "code",
   "execution_count": 77,
   "id": "70a8e03c",
   "metadata": {},
   "outputs": [],
   "source": [
    "df_cash = df[df['transfer_fee'] > 0].copy()"
   ]
  },
  {
   "cell_type": "code",
   "execution_count": 78,
   "id": "295dda14",
   "metadata": {},
   "outputs": [
    {
     "name": "stdout",
     "output_type": "stream",
     "text": [
      "<class 'pandas.core.frame.DataFrame'>\n",
      "Index: 9509 entries, 1 to 79425\n",
      "Data columns (total 10 columns):\n",
      " #   Column               Non-Null Count  Dtype         \n",
      "---  ------               --------------  -----         \n",
      " 0   player_id            9509 non-null   int64         \n",
      " 1   transfer_date        9509 non-null   datetime64[ns]\n",
      " 2   transfer_season      9509 non-null   category      \n",
      " 3   from_club_id         9509 non-null   int64         \n",
      " 4   to_club_id           9509 non-null   int64         \n",
      " 5   from_club_name       9509 non-null   object        \n",
      " 6   to_club_name         9509 non-null   object        \n",
      " 7   transfer_fee         9509 non-null   float64       \n",
      " 8   market_value_in_eur  9509 non-null   float64       \n",
      " 9   player_name          9509 non-null   object        \n",
      "dtypes: category(1), datetime64[ns](1), float64(2), int64(3), object(3)\n",
      "memory usage: 753.5+ KB\n"
     ]
    }
   ],
   "source": [
    "df_cash.info()"
   ]
  },
  {
   "cell_type": "markdown",
   "id": "5d89fdab",
   "metadata": {},
   "source": [
    "## Data analysis"
   ]
  },
  {
   "cell_type": "code",
   "execution_count": 79,
   "id": "b0a68a5f",
   "metadata": {},
   "outputs": [
    {
     "data": {
      "text/plain": [
       "count    7.964600e+04\n",
       "mean     7.274292e+05\n",
       "std      4.279180e+06\n",
       "min      0.000000e+00\n",
       "25%      0.000000e+00\n",
       "50%      0.000000e+00\n",
       "75%      0.000000e+00\n",
       "max      1.800000e+08\n",
       "Name: transfer_fee, dtype: float64"
      ]
     },
     "execution_count": 79,
     "metadata": {},
     "output_type": "execute_result"
    }
   ],
   "source": [
    "df['transfer_fee'].describe()"
   ]
  },
  {
   "cell_type": "code",
   "execution_count": 80,
   "id": "a0f19bfe",
   "metadata": {},
   "outputs": [
    {
     "data": {
      "text/plain": [
       "np.float64(0.0)"
      ]
     },
     "execution_count": 80,
     "metadata": {},
     "output_type": "execute_result"
    }
   ],
   "source": [
    "df['transfer_fee'].median()"
   ]
  },
  {
   "cell_type": "markdown",
   "id": "98945c00",
   "metadata": {},
   "source": [
    "### Top 10 Most expensive transfers"
   ]
  },
  {
   "cell_type": "code",
   "execution_count": 81,
   "id": "9bdb173e",
   "metadata": {},
   "outputs": [
    {
     "data": {
      "text/html": [
       "<div>\n",
       "<style scoped>\n",
       "    .dataframe tbody tr th:only-of-type {\n",
       "        vertical-align: middle;\n",
       "    }\n",
       "\n",
       "    .dataframe tbody tr th {\n",
       "        vertical-align: top;\n",
       "    }\n",
       "\n",
       "    .dataframe thead th {\n",
       "        text-align: right;\n",
       "    }\n",
       "</style>\n",
       "<table border=\"1\" class=\"dataframe\">\n",
       "  <thead>\n",
       "    <tr style=\"text-align: right;\">\n",
       "      <th></th>\n",
       "      <th>player_id</th>\n",
       "      <th>transfer_date</th>\n",
       "      <th>transfer_season</th>\n",
       "      <th>from_club_id</th>\n",
       "      <th>to_club_id</th>\n",
       "      <th>from_club_name</th>\n",
       "      <th>to_club_name</th>\n",
       "      <th>transfer_fee</th>\n",
       "      <th>market_value_in_eur</th>\n",
       "      <th>player_name</th>\n",
       "    </tr>\n",
       "  </thead>\n",
       "  <tbody>\n",
       "    <tr>\n",
       "      <th>47851</th>\n",
       "      <td>342229</td>\n",
       "      <td>2018-07-01</td>\n",
       "      <td>18/19</td>\n",
       "      <td>162</td>\n",
       "      <td>583</td>\n",
       "      <td>Monaco</td>\n",
       "      <td>Paris SG</td>\n",
       "      <td>180000000.0</td>\n",
       "      <td>120000000.0</td>\n",
       "      <td>Kylian Mbappé</td>\n",
       "    </tr>\n",
       "    <tr>\n",
       "      <th>50887</th>\n",
       "      <td>80444</td>\n",
       "      <td>2018-01-08</td>\n",
       "      <td>17/18</td>\n",
       "      <td>31</td>\n",
       "      <td>131</td>\n",
       "      <td>Liverpool</td>\n",
       "      <td>Barcelona</td>\n",
       "      <td>135000000.0</td>\n",
       "      <td>90000000.0</td>\n",
       "      <td>Philippe Coutinho</td>\n",
       "    </tr>\n",
       "    <tr>\n",
       "      <th>51801</th>\n",
       "      <td>288230</td>\n",
       "      <td>2017-08-25</td>\n",
       "      <td>17/18</td>\n",
       "      <td>16</td>\n",
       "      <td>131</td>\n",
       "      <td>Bor. Dortmund</td>\n",
       "      <td>Barcelona</td>\n",
       "      <td>135000000.0</td>\n",
       "      <td>33000000.0</td>\n",
       "      <td>Ousmane Dembélé</td>\n",
       "    </tr>\n",
       "    <tr>\n",
       "      <th>41214</th>\n",
       "      <td>462250</td>\n",
       "      <td>2019-07-03</td>\n",
       "      <td>19/20</td>\n",
       "      <td>294</td>\n",
       "      <td>13</td>\n",
       "      <td>Benfica</td>\n",
       "      <td>Atlético Madrid</td>\n",
       "      <td>127200000.0</td>\n",
       "      <td>70000000.0</td>\n",
       "      <td>João Félix</td>\n",
       "    </tr>\n",
       "    <tr>\n",
       "      <th>16528</th>\n",
       "      <td>648195</td>\n",
       "      <td>2023-01-31</td>\n",
       "      <td>22/23</td>\n",
       "      <td>294</td>\n",
       "      <td>631</td>\n",
       "      <td>Benfica</td>\n",
       "      <td>Chelsea</td>\n",
       "      <td>121000000.0</td>\n",
       "      <td>55000000.0</td>\n",
       "      <td>Enzo Fernández</td>\n",
       "    </tr>\n",
       "    <tr>\n",
       "      <th>40890</th>\n",
       "      <td>125781</td>\n",
       "      <td>2019-07-14</td>\n",
       "      <td>19/20</td>\n",
       "      <td>13</td>\n",
       "      <td>131</td>\n",
       "      <td>Atlético Madrid</td>\n",
       "      <td>Barcelona</td>\n",
       "      <td>120000000.0</td>\n",
       "      <td>130000000.0</td>\n",
       "      <td>Antoine Griezmann</td>\n",
       "    </tr>\n",
       "    <tr>\n",
       "      <th>26931</th>\n",
       "      <td>203460</td>\n",
       "      <td>2021-08-05</td>\n",
       "      <td>21/22</td>\n",
       "      <td>405</td>\n",
       "      <td>281</td>\n",
       "      <td>Aston Villa</td>\n",
       "      <td>Man City</td>\n",
       "      <td>117500000.0</td>\n",
       "      <td>65000000.0</td>\n",
       "      <td>Jack Grealish</td>\n",
       "    </tr>\n",
       "    <tr>\n",
       "      <th>12366</th>\n",
       "      <td>357662</td>\n",
       "      <td>2023-07-15</td>\n",
       "      <td>23/24</td>\n",
       "      <td>379</td>\n",
       "      <td>11</td>\n",
       "      <td>West Ham</td>\n",
       "      <td>Arsenal</td>\n",
       "      <td>116600000.0</td>\n",
       "      <td>90000000.0</td>\n",
       "      <td>Declan Rice</td>\n",
       "    </tr>\n",
       "    <tr>\n",
       "      <th>11354</th>\n",
       "      <td>687626</td>\n",
       "      <td>2023-08-14</td>\n",
       "      <td>23/24</td>\n",
       "      <td>1237</td>\n",
       "      <td>631</td>\n",
       "      <td>Brighton</td>\n",
       "      <td>Chelsea</td>\n",
       "      <td>116000000.0</td>\n",
       "      <td>75000000.0</td>\n",
       "      <td>Moisés Caicedo</td>\n",
       "    </tr>\n",
       "    <tr>\n",
       "      <th>26767</th>\n",
       "      <td>96341</td>\n",
       "      <td>2021-08-12</td>\n",
       "      <td>21/22</td>\n",
       "      <td>46</td>\n",
       "      <td>631</td>\n",
       "      <td>Inter</td>\n",
       "      <td>Chelsea</td>\n",
       "      <td>113000000.0</td>\n",
       "      <td>100000000.0</td>\n",
       "      <td>Romelu Lukaku</td>\n",
       "    </tr>\n",
       "  </tbody>\n",
       "</table>\n",
       "</div>"
      ],
      "text/plain": [
       "       player_id transfer_date transfer_season  from_club_id  to_club_id  \\\n",
       "47851     342229    2018-07-01           18/19           162         583   \n",
       "50887      80444    2018-01-08           17/18            31         131   \n",
       "51801     288230    2017-08-25           17/18            16         131   \n",
       "41214     462250    2019-07-03           19/20           294          13   \n",
       "16528     648195    2023-01-31           22/23           294         631   \n",
       "40890     125781    2019-07-14           19/20            13         131   \n",
       "26931     203460    2021-08-05           21/22           405         281   \n",
       "12366     357662    2023-07-15           23/24           379          11   \n",
       "11354     687626    2023-08-14           23/24          1237         631   \n",
       "26767      96341    2021-08-12           21/22            46         631   \n",
       "\n",
       "        from_club_name     to_club_name  transfer_fee  market_value_in_eur  \\\n",
       "47851           Monaco         Paris SG   180000000.0          120000000.0   \n",
       "50887        Liverpool        Barcelona   135000000.0           90000000.0   \n",
       "51801    Bor. Dortmund        Barcelona   135000000.0           33000000.0   \n",
       "41214          Benfica  Atlético Madrid   127200000.0           70000000.0   \n",
       "16528          Benfica          Chelsea   121000000.0           55000000.0   \n",
       "40890  Atlético Madrid        Barcelona   120000000.0          130000000.0   \n",
       "26931      Aston Villa         Man City   117500000.0           65000000.0   \n",
       "12366         West Ham          Arsenal   116600000.0           90000000.0   \n",
       "11354         Brighton          Chelsea   116000000.0           75000000.0   \n",
       "26767            Inter          Chelsea   113000000.0          100000000.0   \n",
       "\n",
       "             player_name  \n",
       "47851      Kylian Mbappé  \n",
       "50887  Philippe Coutinho  \n",
       "51801    Ousmane Dembélé  \n",
       "41214         João Félix  \n",
       "16528     Enzo Fernández  \n",
       "40890  Antoine Griezmann  \n",
       "26931      Jack Grealish  \n",
       "12366        Declan Rice  \n",
       "11354     Moisés Caicedo  \n",
       "26767      Romelu Lukaku  "
      ]
     },
     "execution_count": 81,
     "metadata": {},
     "output_type": "execute_result"
    }
   ],
   "source": [
    "df.sort_values(by='transfer_fee', ascending=False).head(10)"
   ]
  },
  {
   "cell_type": "code",
   "execution_count": 82,
   "id": "4d33272c",
   "metadata": {},
   "outputs": [],
   "source": [
    "idx = df_cash.groupby('transfer_season', observed=True)['transfer_fee'].idxmax()"
   ]
  },
  {
   "cell_type": "code",
   "execution_count": 83,
   "id": "598a04a2",
   "metadata": {},
   "outputs": [],
   "source": [
    "most_expensive_per_season = df_cash.loc[idx].sort_values(by='transfer_season')"
   ]
  },
  {
   "cell_type": "code",
   "execution_count": 84,
   "id": "41c113b1",
   "metadata": {},
   "outputs": [
    {
     "data": {
      "text/html": [
       "<div>\n",
       "<style scoped>\n",
       "    .dataframe tbody tr th:only-of-type {\n",
       "        vertical-align: middle;\n",
       "    }\n",
       "\n",
       "    .dataframe tbody tr th {\n",
       "        vertical-align: top;\n",
       "    }\n",
       "\n",
       "    .dataframe thead th {\n",
       "        text-align: right;\n",
       "    }\n",
       "</style>\n",
       "<table border=\"1\" class=\"dataframe\">\n",
       "  <thead>\n",
       "    <tr style=\"text-align: right;\">\n",
       "      <th></th>\n",
       "      <th>transfer_season</th>\n",
       "      <th>from_club_name</th>\n",
       "      <th>to_club_name</th>\n",
       "      <th>transfer_fee</th>\n",
       "      <th>player_name</th>\n",
       "    </tr>\n",
       "  </thead>\n",
       "  <tbody>\n",
       "    <tr>\n",
       "      <th>79425</th>\n",
       "      <td>02/03</td>\n",
       "      <td>Barcelona</td>\n",
       "      <td>Villarreal</td>\n",
       "      <td>750000.0</td>\n",
       "      <td>Pepe Reina</td>\n",
       "    </tr>\n",
       "    <tr>\n",
       "      <th>79113</th>\n",
       "      <td>04/05</td>\n",
       "      <td>Leeds</td>\n",
       "      <td>Newcastle</td>\n",
       "      <td>7400000.0</td>\n",
       "      <td>James Milner</td>\n",
       "    </tr>\n",
       "    <tr>\n",
       "      <th>78807</th>\n",
       "      <td>05/06</td>\n",
       "      <td>Sevilla FC</td>\n",
       "      <td>Real Madrid</td>\n",
       "      <td>27000000.0</td>\n",
       "      <td>Sergio Ramos</td>\n",
       "    </tr>\n",
       "    <tr>\n",
       "      <th>78261</th>\n",
       "      <td>06/07</td>\n",
       "      <td>Watford</td>\n",
       "      <td>Aston Villa</td>\n",
       "      <td>13200000.0</td>\n",
       "      <td>Ashley Young</td>\n",
       "    </tr>\n",
       "    <tr>\n",
       "      <th>77770</th>\n",
       "      <td>07/08</td>\n",
       "      <td>FC Porto</td>\n",
       "      <td>Real Madrid</td>\n",
       "      <td>30000000.0</td>\n",
       "      <td>Pepe</td>\n",
       "    </tr>\n",
       "  </tbody>\n",
       "</table>\n",
       "</div>"
      ],
      "text/plain": [
       "      transfer_season from_club_name to_club_name  transfer_fee   player_name\n",
       "79425           02/03      Barcelona   Villarreal      750000.0    Pepe Reina\n",
       "79113           04/05          Leeds    Newcastle     7400000.0  James Milner\n",
       "78807           05/06     Sevilla FC  Real Madrid    27000000.0  Sergio Ramos\n",
       "78261           06/07        Watford  Aston Villa    13200000.0  Ashley Young\n",
       "77770           07/08       FC Porto  Real Madrid    30000000.0          Pepe"
      ]
     },
     "execution_count": 84,
     "metadata": {},
     "output_type": "execute_result"
    }
   ],
   "source": [
    "cols = ['transfer_season', 'from_club_name', 'to_club_name', 'transfer_fee', 'player_name']\n",
    "most_expensive_per_season[cols].head()"
   ]
  },
  {
   "cell_type": "code",
   "execution_count": 85,
   "id": "af0ff65a",
   "metadata": {},
   "outputs": [
    {
     "data": {
      "image/png": "[encoded data removed]",
      "text/plain": [
       "<Figure size 1500x800 with 1 Axes>"
      ]
     },
     "metadata": {},
     "output_type": "display_data"
    }
   ],
   "source": [
    "expensive_transfers = most_expensive_per_season[['transfer_season', 'transfer_fee', 'player_name']]\n",
    "expensive_transfers = expensive_transfers.sort_values('transfer_season')\n",
    "\n",
    "fig, ax = plt.subplots(figsize=(15, 8))\n",
    "ax.plot(expensive_transfers['transfer_season'], expensive_transfers['transfer_fee'], marker='o', linestyle='-')\n",
    "ax.set_title('Most expensive transfer per season')\n",
    "ax.set_xlabel('Season')\n",
    "ax.set_ylabel('Price')\n",
    "ax.set_ylim(0, 25e7)\n",
    "plt.xticks(rotation=90)\n",
    "plt.grid(True)\n",
    "\n",
    "ax.yaxis.set_major_formatter(mticker.FuncFormatter(lambda x, _: f'{x/1e6:.0f}M'))\n",
    "\n",
    "for i, row in expensive_transfers.iterrows():\n",
    "    plt.text(row['transfer_season'], row['transfer_fee'] + 10e6, row['player_name'], rotation=90, fontsize=9, ha='left', va='bottom')\n",
    "\n",
    "plt.tight_layout()\n",
    "plt.show()"
   ]
  },
  {
   "cell_type": "markdown",
   "id": "c3417d37",
   "metadata": {},
   "source": [
    "## Wnioski z analizy najdroższych transferów piłkarskich w sezonach 2002/03 – 2026/27\n",
    "\n",
    "Na przestrzeni analizowanych sezonów widoczny jest wyraźny trend wzrostowy wartości najdroższych transferów. Od kwot rzędu kilku milionów euro na początku okresu \n",
    "(np. transfer Pepe Reiny w sezonie 02/03) ceny systematycznie rosły, osiągając szczyt w sezonie 18/19, kiedy transfer Kyliana Mbappé przekroczył 180 milionów euro. \n",
    "Był to punkt kulminacyjny całego okresu.\n",
    "\n",
    "Po rekordowym transferze Mbappé zauważalny jest jednak trend większej zmienności – ceny w kolejnych sezonach nie utrzymywały już stałego wzrostu, a często były niższe niż w latach szczytu. \n",
    "Najdroższe transfery z sezonów 20/21–26/27, mimo że wciąż imponujące, nie osiągały rekordowych kwot z lat 17/18–18/19. Może to wskazywać na zmianę strategii finansowej klubów, które zaczęły ograniczać wydatki na transfery.\n",
    "\n",
    "Warto również zauważyć, że spadki wartości po 2019 roku mogą być związane z czynnikami zewnętrznymi, takimi jak pandemia COVID-19, która wpłynęła na budżety wielu klubów. \n",
    "W ostatnich sezonach (24/25–26/27) najdroższe transfery są już znacznie tańsze, co może sugerować początek dłuższego trendu stabilizacji lub nawet spadku wartości na rynku transferowym.\n",
    "\n",
    "### Uwzględnienie specyfiki ostatnich sezonów\n",
    "\n",
    "Trzeba pamiętać, że okienko transferowe na sezon 25/26 wciąż trwa, więc dane dla tego sezonu mogą się jeszcze zmienić, jeśli dojdzie do kolejnych dużych transakcji. \n",
    "Z kolei najdroższy transfer przypisany do sezonu 26/27 dotyczy transakcji, w której kwota została zapłacona już teraz, ale piłkarz formalnie przejdzie do nowego klubu dopiero w przyszłym roku. \n",
    "Oznacza to, że wnioski dotyczące tych sezonów są tymczasowe i mogą ulec zmianie wraz z dalszym rozwojem sytuacji na rynku transferowym.\n",
    "\n",
    "---\n",
    "\n",
    "Ogólnie analiza pokazuje, że rynek transferowy przeszedł od powolnego wzrostu, przez okres gwałtownych zwyżek, aż do obecnej fazy zmienności i potencjalnej stabilizacji cen.\n"
   ]
  },
  {
   "cell_type": "code",
   "execution_count": 86,
   "id": "c84de17c",
   "metadata": {},
   "outputs": [
    {
     "data": {
      "text/plain": [
       "player_id              0\n",
       "transfer_date          0\n",
       "transfer_season        0\n",
       "from_club_id           0\n",
       "to_club_id             0\n",
       "from_club_name         0\n",
       "to_club_name           0\n",
       "transfer_fee           0\n",
       "market_value_in_eur    0\n",
       "player_name            0\n",
       "dtype: int64"
      ]
     },
     "execution_count": 86,
     "metadata": {},
     "output_type": "execute_result"
    }
   ],
   "source": [
    "df_cash.isnull().sum()"
   ]
  },
  {
   "cell_type": "code",
   "execution_count": 87,
   "id": "fb801356",
   "metadata": {},
   "outputs": [
    {
     "name": "stderr",
     "output_type": "stream",
     "text": [
      "C:\\Users\\wojdz\\AppData\\Local\\Temp\\ipykernel_11608\\3859070360.py:1: FutureWarning:\n",
      "\n",
      "The default of observed=False is deprecated and will be changed to True in a future version of pandas. Pass observed=False to retain current behavior or observed=True to adopt the future default and silence this warning.\n",
      "\n"
     ]
    },
    {
     "data": {
      "text/html": [
       "<div>\n",
       "<style scoped>\n",
       "    .dataframe tbody tr th:only-of-type {\n",
       "        vertical-align: middle;\n",
       "    }\n",
       "\n",
       "    .dataframe tbody tr th {\n",
       "        vertical-align: top;\n",
       "    }\n",
       "\n",
       "    .dataframe thead th {\n",
       "        text-align: right;\n",
       "    }\n",
       "</style>\n",
       "<table border=\"1\" class=\"dataframe\">\n",
       "  <thead>\n",
       "    <tr style=\"text-align: right;\">\n",
       "      <th></th>\n",
       "      <th>transfer_season</th>\n",
       "      <th>transfer_fee</th>\n",
       "    </tr>\n",
       "  </thead>\n",
       "  <tbody>\n",
       "    <tr>\n",
       "      <th>2</th>\n",
       "      <td>02/03</td>\n",
       "      <td>7.500000e+05</td>\n",
       "    </tr>\n",
       "    <tr>\n",
       "      <th>4</th>\n",
       "      <td>04/05</td>\n",
       "      <td>1.263909e+06</td>\n",
       "    </tr>\n",
       "    <tr>\n",
       "      <th>5</th>\n",
       "      <td>05/06</td>\n",
       "      <td>3.547917e+06</td>\n",
       "    </tr>\n",
       "    <tr>\n",
       "      <th>6</th>\n",
       "      <td>06/07</td>\n",
       "      <td>1.796579e+06</td>\n",
       "    </tr>\n",
       "    <tr>\n",
       "      <th>7</th>\n",
       "      <td>07/08</td>\n",
       "      <td>3.648330e+06</td>\n",
       "    </tr>\n",
       "  </tbody>\n",
       "</table>\n",
       "</div>"
      ],
      "text/plain": [
       "  transfer_season  transfer_fee\n",
       "2           02/03  7.500000e+05\n",
       "4           04/05  1.263909e+06\n",
       "5           05/06  3.547917e+06\n",
       "6           06/07  1.796579e+06\n",
       "7           07/08  3.648330e+06"
      ]
     },
     "execution_count": 87,
     "metadata": {},
     "output_type": "execute_result"
    }
   ],
   "source": [
    "avg_transfer_per_season = df_cash.groupby(\"transfer_season\")[\"transfer_fee\"].mean().reset_index().sort_values('transfer_season').dropna()\n",
    "avg_transfer_per_season.head()"
   ]
  },
  {
   "cell_type": "code",
   "execution_count": 88,
   "id": "232455db",
   "metadata": {},
   "outputs": [
    {
     "data": {
      "text/plain": [
       "[]"
      ]
     },
     "execution_count": 88,
     "metadata": {},
     "output_type": "execute_result"
    },
    {
     "data": {
      "image/png": "[encoded data removed]",
      "text/plain": [
       "<Figure size 1500x600 with 1 Axes>"
      ]
     },
     "metadata": {},
     "output_type": "display_data"
    }
   ],
   "source": [
    "fig, ax = plt.subplots(figsize=(15,6))\n",
    "ax.plot(avg_transfer_per_season['transfer_season'], avg_transfer_per_season['transfer_fee'], marker='o', linestyle='--')\n",
    "ax.set_title('Average transfers price per season')\n",
    "ax.set_xlabel('Season')\n",
    "ax.set_ylabel('Average price')\n",
    "ax.set_ylim(0, 60e6)\n",
    "ax.grid(True)\n",
    "ax.yaxis.set_major_formatter(mticker.FuncFormatter(lambda x, _: f'{x/1e6:.0f}M'))\n",
    "\n",
    "fig.tight_layout()\n",
    "plt.plot()"
   ]
  },
  {
   "cell_type": "markdown",
   "id": "6d6f2743",
   "metadata": {},
   "source": [
    "## Wnioski z analizy średnich cen transferów\n",
    "\n",
    "- Na przestrzeni analizowanych sezonów widać **stały trend wzrostu średnich cen transferów**, zwłaszcza od sezonu 15/16, co odzwierciedla rosnące kwoty na rynku piłkarskim.\n",
    "\n",
    "- **Sezony 25/26 i 26/27 wykazują ekstremalnie wysokie średnie ceny transferów**, jednak należy pamiętać, że **sezon 25/26 jeszcze trwa, a sezon 26/27 się jeszcze nie zaczął**. Wyjątkowo wysoka średnia wynika z faktu, że Chelsea zakontraktowała piłkarza z wyprzedzeniem – transfer został już zaksięgowany, ale zawodnik dołączy do klubu dopiero w przyszłym roku. W miarę realizacji kolejnych transakcji średnia powinna się **ustabilizować i uśrednić** do bardziej realistycznego poziomu.\n"
   ]
  },
  {
   "cell_type": "markdown",
   "id": "ec003c9a",
   "metadata": {},
   "source": [
    "## Transfers from and to club"
   ]
  },
  {
   "cell_type": "code",
   "execution_count": 89,
   "id": "e81ede2a",
   "metadata": {},
   "outputs": [],
   "source": [
    "club_pay = df['to_club_name'].value_counts().head(10)"
   ]
  },
  {
   "cell_type": "code",
   "execution_count": 90,
   "id": "bbb60879",
   "metadata": {},
   "outputs": [],
   "source": [
    "club_sell = df['from_club_name'].value_counts().head(10)"
   ]
  },
  {
   "cell_type": "code",
   "execution_count": 91,
   "id": "842cdc21",
   "metadata": {},
   "outputs": [
    {
     "data": {
      "text/html": [
       "<div>\n",
       "<style scoped>\n",
       "    .dataframe tbody tr th:only-of-type {\n",
       "        vertical-align: middle;\n",
       "    }\n",
       "\n",
       "    .dataframe tbody tr th {\n",
       "        vertical-align: top;\n",
       "    }\n",
       "\n",
       "    .dataframe thead th {\n",
       "        text-align: right;\n",
       "    }\n",
       "</style>\n",
       "<table border=\"1\" class=\"dataframe\">\n",
       "  <thead>\n",
       "    <tr style=\"text-align: right;\">\n",
       "      <th></th>\n",
       "      <th>player_id</th>\n",
       "      <th>transfer_date</th>\n",
       "      <th>transfer_season</th>\n",
       "      <th>from_club_id</th>\n",
       "      <th>to_club_id</th>\n",
       "      <th>from_club_name</th>\n",
       "      <th>to_club_name</th>\n",
       "      <th>transfer_fee</th>\n",
       "      <th>market_value_in_eur</th>\n",
       "      <th>player_name</th>\n",
       "    </tr>\n",
       "  </thead>\n",
       "  <tbody>\n",
       "    <tr>\n",
       "      <th>1670</th>\n",
       "      <td>1367128</td>\n",
       "      <td>2025-01-15</td>\n",
       "      <td>24/25</td>\n",
       "      <td>75</td>\n",
       "      <td>6890</td>\n",
       "      <td>Unknown</td>\n",
       "      <td>Basaksehir</td>\n",
       "      <td>0.0</td>\n",
       "      <td>0.0</td>\n",
       "      <td>Abdoulaye Yoro</td>\n",
       "    </tr>\n",
       "    <tr>\n",
       "      <th>7669</th>\n",
       "      <td>1285176</td>\n",
       "      <td>2024-04-15</td>\n",
       "      <td>23/24</td>\n",
       "      <td>75</td>\n",
       "      <td>3654</td>\n",
       "      <td>Unknown</td>\n",
       "      <td>Kalmar FF</td>\n",
       "      <td>0.0</td>\n",
       "      <td>0.0</td>\n",
       "      <td>Vince Osuji</td>\n",
       "    </tr>\n",
       "    <tr>\n",
       "      <th>8577</th>\n",
       "      <td>1231401</td>\n",
       "      <td>2024-01-31</td>\n",
       "      <td>23/24</td>\n",
       "      <td>75</td>\n",
       "      <td>8158</td>\n",
       "      <td>Unknown</td>\n",
       "      <td>OGC Nice B</td>\n",
       "      <td>0.0</td>\n",
       "      <td>0.0</td>\n",
       "      <td>Victor Orakpo</td>\n",
       "    </tr>\n",
       "    <tr>\n",
       "      <th>10189</th>\n",
       "      <td>1185987</td>\n",
       "      <td>2023-09-14</td>\n",
       "      <td>23/24</td>\n",
       "      <td>75</td>\n",
       "      <td>73907</td>\n",
       "      <td>Unknown</td>\n",
       "      <td>Kayserispor U19</td>\n",
       "      <td>0.0</td>\n",
       "      <td>0.0</td>\n",
       "      <td>Mirkan Cevdet Buğurcu</td>\n",
       "    </tr>\n",
       "    <tr>\n",
       "      <th>10340</th>\n",
       "      <td>1240255</td>\n",
       "      <td>2023-09-05</td>\n",
       "      <td>23/24</td>\n",
       "      <td>75</td>\n",
       "      <td>81204</td>\n",
       "      <td>Unknown</td>\n",
       "      <td>Polissya U19</td>\n",
       "      <td>0.0</td>\n",
       "      <td>0.0</td>\n",
       "      <td>Oleksandr Ivanov</td>\n",
       "    </tr>\n",
       "    <tr>\n",
       "      <th>...</th>\n",
       "      <td>...</td>\n",
       "      <td>...</td>\n",
       "      <td>...</td>\n",
       "      <td>...</td>\n",
       "      <td>...</td>\n",
       "      <td>...</td>\n",
       "      <td>...</td>\n",
       "      <td>...</td>\n",
       "      <td>...</td>\n",
       "      <td>...</td>\n",
       "    </tr>\n",
       "    <tr>\n",
       "      <th>79110</th>\n",
       "      <td>19619</td>\n",
       "      <td>2004-07-21</td>\n",
       "      <td>04/05</td>\n",
       "      <td>75</td>\n",
       "      <td>34152</td>\n",
       "      <td>Unknown</td>\n",
       "      <td>Dynamo-3 Kyiv</td>\n",
       "      <td>0.0</td>\n",
       "      <td>0.0</td>\n",
       "      <td>Oleksandr Rybka</td>\n",
       "    </tr>\n",
       "    <tr>\n",
       "      <th>79236</th>\n",
       "      <td>129513</td>\n",
       "      <td>2004-07-01</td>\n",
       "      <td>04/05</td>\n",
       "      <td>75</td>\n",
       "      <td>38464</td>\n",
       "      <td>Unknown</td>\n",
       "      <td>FC Ardealul</td>\n",
       "      <td>0.0</td>\n",
       "      <td>0.0</td>\n",
       "      <td>Alexandru Maxim</td>\n",
       "    </tr>\n",
       "    <tr>\n",
       "      <th>79292</th>\n",
       "      <td>85969</td>\n",
       "      <td>2004-01-01</td>\n",
       "      <td>03/04</td>\n",
       "      <td>75</td>\n",
       "      <td>19605</td>\n",
       "      <td>Unknown</td>\n",
       "      <td>Spartak-Gorobyna</td>\n",
       "      <td>0.0</td>\n",
       "      <td>0.0</td>\n",
       "      <td>Oleksandr Bandura</td>\n",
       "    </tr>\n",
       "    <tr>\n",
       "      <th>79561</th>\n",
       "      <td>39152</td>\n",
       "      <td>2001-03-07</td>\n",
       "      <td>00/01</td>\n",
       "      <td>75</td>\n",
       "      <td>15108</td>\n",
       "      <td>Unknown</td>\n",
       "      <td>River Plate U20</td>\n",
       "      <td>0.0</td>\n",
       "      <td>0.0</td>\n",
       "      <td>Radamel Falcao</td>\n",
       "    </tr>\n",
       "    <tr>\n",
       "      <th>79595</th>\n",
       "      <td>34784</td>\n",
       "      <td>1999-08-01</td>\n",
       "      <td>99/00</td>\n",
       "      <td>75</td>\n",
       "      <td>13179</td>\n",
       "      <td>Unknown</td>\n",
       "      <td>Taastrup B70</td>\n",
       "      <td>0.0</td>\n",
       "      <td>0.0</td>\n",
       "      <td>Lasse Schöne</td>\n",
       "    </tr>\n",
       "  </tbody>\n",
       "</table>\n",
       "<p>339 rows × 10 columns</p>\n",
       "</div>"
      ],
      "text/plain": [
       "       player_id transfer_date transfer_season  from_club_id  to_club_id  \\\n",
       "1670     1367128    2025-01-15           24/25            75        6890   \n",
       "7669     1285176    2024-04-15           23/24            75        3654   \n",
       "8577     1231401    2024-01-31           23/24            75        8158   \n",
       "10189    1185987    2023-09-14           23/24            75       73907   \n",
       "10340    1240255    2023-09-05           23/24            75       81204   \n",
       "...          ...           ...             ...           ...         ...   \n",
       "79110      19619    2004-07-21           04/05            75       34152   \n",
       "79236     129513    2004-07-01           04/05            75       38464   \n",
       "79292      85969    2004-01-01           03/04            75       19605   \n",
       "79561      39152    2001-03-07           00/01            75       15108   \n",
       "79595      34784    1999-08-01           99/00            75       13179   \n",
       "\n",
       "      from_club_name      to_club_name  transfer_fee  market_value_in_eur  \\\n",
       "1670         Unknown        Basaksehir           0.0                  0.0   \n",
       "7669         Unknown         Kalmar FF           0.0                  0.0   \n",
       "8577         Unknown        OGC Nice B           0.0                  0.0   \n",
       "10189        Unknown   Kayserispor U19           0.0                  0.0   \n",
       "10340        Unknown      Polissya U19           0.0                  0.0   \n",
       "...              ...               ...           ...                  ...   \n",
       "79110        Unknown     Dynamo-3 Kyiv           0.0                  0.0   \n",
       "79236        Unknown       FC Ardealul           0.0                  0.0   \n",
       "79292        Unknown  Spartak-Gorobyna           0.0                  0.0   \n",
       "79561        Unknown   River Plate U20           0.0                  0.0   \n",
       "79595        Unknown      Taastrup B70           0.0                  0.0   \n",
       "\n",
       "                 player_name  \n",
       "1670          Abdoulaye Yoro  \n",
       "7669             Vince Osuji  \n",
       "8577           Victor Orakpo  \n",
       "10189  Mirkan Cevdet Buğurcu  \n",
       "10340       Oleksandr Ivanov  \n",
       "...                      ...  \n",
       "79110        Oleksandr Rybka  \n",
       "79236        Alexandru Maxim  \n",
       "79292      Oleksandr Bandura  \n",
       "79561         Radamel Falcao  \n",
       "79595           Lasse Schöne  \n",
       "\n",
       "[339 rows x 10 columns]"
      ]
     },
     "execution_count": 91,
     "metadata": {},
     "output_type": "execute_result"
    }
   ],
   "source": [
    "mask_unknown = df.isin(['Unknown'])\n",
    "df_unknown = df[mask_unknown.any(axis=1)]\n",
    "df_unknown"
   ]
  },
  {
   "cell_type": "markdown",
   "id": "012ed528",
   "metadata": {},
   "source": [
    "## Wnioski z analizy najaktywniejszych klubów i jakości danych\n",
    "\n",
    "### Najaktywniejsze kluby kupujące i sprzedające\n",
    "\n",
    "**Najwięcej kupujących (`to_club_name`):**\n",
    "- Najwięcej transferów trafia do „Without Club” (1456 przypadków), co oznacza, że wielu zawodników nie przechodzi do żadnego klubu — w praktyce to często oznacza **wolnych agentów**, ale również **piłkarzy podpisujących pierwszy seniorski kontrakt**, których pierwszy klub w seniorskiej karierze jest rejestrowany jako „Without Club” (mniej znany klub, dla którego transfermarkt nie prowadzi statystyk).\n",
    "- Wśród aktywnych klubów transferowych wyróżniają się m.in. Olympiacos, Inter, Genoa, Chelsea, AS Roma, Juventus i Benfica — drużyny znane z intensywnej aktywności na rynku transferowym.\n",
    "\n",
    "**Najwięcej sprzedających (`from_club_name`):**\n",
    "- Najczęściej zawodnicy odchodzą z „Without Club” (964 przypadki) — w tym kontekście oznacza to **piłkarzy odchodzących na emeryturę** lub którzy zostają bez klubu.\n",
    "- Pojawienie się „Unknown” (258 przypadków) sugeruje również przypadki, w których piłkarz przechodzi do klubu **niezarejestrowanego w bazie danych** (np. amatorskiego, spoza rejestru lub z niekompletną dokumentacją).\n",
    "\n",
    "---\n",
    "\n",
    "### Problemy z jakością danych\n",
    "\n",
    "Wysoka liczba wystąpień **„Unknown”** i „Without Club” w kolumnach `from_club_name` i `to_club_name` wskazuje, że dane zawierają sporo braków informacyjnych o pochodzeniu lub przeznaczeniu zawodników w transferach, ale też odzwierciedlają naturalne przypadki, takie jak:\n",
    "- Pierwszy profesjonalny kontrakt piłkarza.\n",
    "- Zakończenie kariery i przejście na emeryturę.\n",
    "- Transfery z/do klubów spoza rejestru (np. z lig amatorskich lub krajów, gdzie nie ma kompletnych danych).\n",
    "\n",
    "---\n",
    "\n",
    "### Wnioski praktyczne\n",
    "\n",
    "1. **Silna obecność „Unknown” i „Without Club”** oznacza, że duża część transferów dotyczy piłkarzy na ważnych etapach kariery — przechodzących na emeryturę, podpisujących pierwszy kontrakt lub zmieniających klub z/do mniej znanych drużyn.\n",
    "   \n",
    "2. **Najaktywniejsze kluby** w zestawieniu to zespoły znane z częstych transferów (m.in. Inter, Olympiacos, Genoa, Roma, Juventus), co potwierdza ich aktywność na rynku.\n",
    "\n",
    "3. **Jakość danych wymaga uwzględnienia kontekstu sportowego** — w niektórych analizach warto odróżniać przypadki, gdzie „Without Club” oznacza pierwszy kontrakt, a gdzie koniec kariery, ponieważ mają one zupełnie inne znaczenie sportowe i finansowe.\n",
    "\n",
    "4. Przy dalszych analizach (np. wartości transferów, średniego wieku przy transferze) warto rozważyć **dodatkowe oznaczanie przypadków „Unknown”/„Without Club” jako specjalne kategorie**, zamiast je usuwać — pozwoli to lepiej zrozumieć, jak wygląda kariera zawodników od debiutu po emeryturę.\n"
   ]
  }
 ],
 "metadata": {
  "kernelspec": {
   "display_name": "Python 3",
   "language": "python",
   "name": "python3"
  },
  "language_info": {
   "codemirror_mode": {
    "name": "ipython",
    "version": 3
   },
   "file_extension": ".py",
   "mimetype": "text/x-python",
   "name": "python",
   "nbconvert_exporter": "python",
   "pygments_lexer": "ipython3",
   "version": "3.13.2"
  }
 },
 "nbformat": 4,
 "nbformat_minor": 5
}
